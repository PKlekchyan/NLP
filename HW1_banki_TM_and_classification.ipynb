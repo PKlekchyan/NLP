{
 "cells": [
  {
   "cell_type": "code",
   "execution_count": 2,
   "metadata": {
    "id": "h1dvK7H_qauH"
   },
   "outputs": [],
   "source": [
    "import json\n",
    "\n",
    "import bz2\n",
    "import regex\n",
    "from tqdm import tqdm\n",
    "from scipy import sparse"
   ]
  },
  {
   "cell_type": "code",
   "execution_count": 3,
   "metadata": {
    "id": "_ZsoxOinqauK",
    "outputId": "1b349b33-f266-404a-fa55-4088784d8897"
   },
   "outputs": [
    {
     "name": "stdout",
     "output_type": "stream",
     "text": [
      "Populating the interactive namespace from numpy and matplotlib\n"
     ]
    }
   ],
   "source": [
    "import pandas as pd\n",
    "import numpy as np\n",
    "import nltk\n",
    "import matplotlib.pyplot as plt\n",
    "import seaborn as sns\n",
    "%matplotlib inline\n",
    "%pylab inline"
   ]
  },
  {
   "cell_type": "code",
   "execution_count": 4,
   "metadata": {
    "id": "UNHVsbPnqauL",
    "outputId": "e8d7d7f4-576b-4846-b06a-f3b4a08adb95",
    "scrolled": false
   },
   "outputs": [
    {
     "name": "stderr",
     "output_type": "stream",
     "text": [
      "201030it [02:05, 1597.32it/s]\n"
     ]
    }
   ],
   "source": [
    "responses = []\n",
    "with bz2.BZ2File('banki_responses.json.bz2', 'r') as thefile:\n",
    "    for row in tqdm(thefile):\n",
    "        resp = json.loads(row)\n",
    "        if not resp['rating_not_checked'] and (len(resp['text'].split()) > 0):\n",
    "            responses.append(resp)"
   ]
  },
  {
   "cell_type": "code",
   "execution_count": null,
   "metadata": {},
   "outputs": [],
   "source": []
  },
  {
   "cell_type": "code",
   "execution_count": 5,
   "metadata": {},
   "outputs": [],
   "source": [
    "df = pd.DataFrame(responses)"
   ]
  },
  {
   "cell_type": "code",
   "execution_count": 6,
   "metadata": {
    "scrolled": true
   },
   "outputs": [
    {
     "name": "stdout",
     "output_type": "stream",
     "text": [
      "<class 'pandas.core.frame.DataFrame'>\n",
      "RangeIndex: 153499 entries, 0 to 153498\n",
      "Data columns (total 10 columns):\n",
      " #   Column              Non-Null Count   Dtype  \n",
      "---  ------              --------------   -----  \n",
      " 0   city                138325 non-null  object \n",
      " 1   rating_not_checked  153499 non-null  bool   \n",
      " 2   title               153499 non-null  object \n",
      " 3   num_comments        153499 non-null  int64  \n",
      " 4   bank_license        153498 non-null  object \n",
      " 5   author              153479 non-null  object \n",
      " 6   bank_name           153499 non-null  object \n",
      " 7   datetime            153499 non-null  object \n",
      " 8   text                153499 non-null  object \n",
      " 9   rating_grade        88658 non-null   float64\n",
      "dtypes: bool(1), float64(1), int64(1), object(7)\n",
      "memory usage: 10.7+ MB\n"
     ]
    }
   ],
   "source": [
    "df.info()"
   ]
  },
  {
   "cell_type": "markdown",
   "metadata": {},
   "source": [
    "### Анализ текстов"
   ]
  },
  {
   "cell_type": "markdown",
   "metadata": {},
   "source": [
    "#### 1. Кол-во отзывов в разных городах на разные банки"
   ]
  },
  {
   "cell_type": "markdown",
   "metadata": {},
   "source": [
    "#### Приведем названия городов и банков к общему виду, чтобы избежать дублирований, таких как Спб, Питер, Санкт-петербург и т.д."
   ]
  },
  {
   "cell_type": "code",
   "execution_count": 51,
   "metadata": {},
   "outputs": [],
   "source": [
    "import re"
   ]
  },
  {
   "cell_type": "code",
   "execution_count": 88,
   "metadata": {},
   "outputs": [],
   "source": [
    "def chenging_city(col): \n",
    "    if col is not None:\n",
    "        city = col.lower().replace('_', '-')\n",
    "\n",
    "        city = re.sub(r'[^а-яa-z -]', '', city)\n",
    "        if city == 'г мск' or city == 'г moscow':\n",
    "            city = 'г москва'\n",
    "        if city == 'г спб' or city == 'г питер':\n",
    "            city = 'г санкт-петербург'\n",
    "    else:\n",
    "        return col\n",
    "    \n",
    "    return city\n",
    "\n",
    "def chenging_bank(col):\n",
    "    bank = col.lower().replace('_', '-')\n",
    "    bank = re.sub(r'[^а-яa-z -]', '', bank)\n",
    "    return bank"
   ]
  },
  {
   "cell_type": "code",
   "execution_count": 89,
   "metadata": {},
   "outputs": [],
   "source": [
    "df['city'] = df['city'].apply(chenging_city)\n",
    "df['bank_name'] = df['bank_name'].apply(chenging_city)"
   ]
  },
  {
   "cell_type": "code",
   "execution_count": 103,
   "metadata": {},
   "outputs": [],
   "source": [
    "amount_of_review = df.groupby(['city', 'bank_name'])['text'].agg('count').reset_index()"
   ]
  },
  {
   "cell_type": "code",
   "execution_count": 105,
   "metadata": {},
   "outputs": [],
   "source": [
    "amount_of_review.sort_values(by='text', ascending=False, inplace=True)"
   ]
  },
  {
   "cell_type": "code",
   "execution_count": 120,
   "metadata": {},
   "outputs": [
    {
     "data": {
      "text/html": [
       "<div>\n",
       "<style scoped>\n",
       "    .dataframe tbody tr th:only-of-type {\n",
       "        vertical-align: middle;\n",
       "    }\n",
       "\n",
       "    .dataframe tbody tr th {\n",
       "        vertical-align: top;\n",
       "    }\n",
       "\n",
       "    .dataframe thead th {\n",
       "        text-align: right;\n",
       "    }\n",
       "</style>\n",
       "<table border=\"1\" class=\"dataframe\">\n",
       "  <thead>\n",
       "    <tr style=\"text-align: right;\">\n",
       "      <th></th>\n",
       "      <th>city</th>\n",
       "      <th>bank_name</th>\n",
       "      <th>text</th>\n",
       "    </tr>\n",
       "  </thead>\n",
       "  <tbody>\n",
       "    <tr>\n",
       "      <th>7847</th>\n",
       "      <td>г москва</td>\n",
       "      <td>сбербанк россии</td>\n",
       "      <td>8328</td>\n",
       "    </tr>\n",
       "    <tr>\n",
       "      <th>7554</th>\n",
       "      <td>г москва</td>\n",
       "      <td>альфа-банк</td>\n",
       "      <td>3976</td>\n",
       "    </tr>\n",
       "    <tr>\n",
       "      <th>7835</th>\n",
       "      <td>г москва</td>\n",
       "      <td>русский стандарт</td>\n",
       "      <td>2905</td>\n",
       "    </tr>\n",
       "    <tr>\n",
       "      <th>7616</th>\n",
       "      <td>г москва</td>\n",
       "      <td>втб</td>\n",
       "      <td>2756</td>\n",
       "    </tr>\n",
       "    <tr>\n",
       "      <th>12813</th>\n",
       "      <td>г санкт-петербург</td>\n",
       "      <td>сбербанк россии</td>\n",
       "      <td>2554</td>\n",
       "    </tr>\n",
       "    <tr>\n",
       "      <th>7733</th>\n",
       "      <td>г москва</td>\n",
       "      <td>московский кредитный банк</td>\n",
       "      <td>2404</td>\n",
       "    </tr>\n",
       "    <tr>\n",
       "      <th>7888</th>\n",
       "      <td>г москва</td>\n",
       "      <td>тинькофф банк</td>\n",
       "      <td>2392</td>\n",
       "    </tr>\n",
       "    <tr>\n",
       "      <th>7925</th>\n",
       "      <td>г москва</td>\n",
       "      <td>хоум кредит банк</td>\n",
       "      <td>2193</td>\n",
       "    </tr>\n",
       "    <tr>\n",
       "      <th>7747</th>\n",
       "      <td>г москва</td>\n",
       "      <td>национальный банк траст</td>\n",
       "      <td>1695</td>\n",
       "    </tr>\n",
       "    <tr>\n",
       "      <th>7797</th>\n",
       "      <td>г москва</td>\n",
       "      <td>райффайзенбанк</td>\n",
       "      <td>1462</td>\n",
       "    </tr>\n",
       "    <tr>\n",
       "      <th>7849</th>\n",
       "      <td>г москва</td>\n",
       "      <td>связной банк</td>\n",
       "      <td>1460</td>\n",
       "    </tr>\n",
       "    <tr>\n",
       "      <th>7575</th>\n",
       "      <td>г москва</td>\n",
       "      <td>банк москвы</td>\n",
       "      <td>1320</td>\n",
       "    </tr>\n",
       "    <tr>\n",
       "      <th>7805</th>\n",
       "      <td>г москва</td>\n",
       "      <td>ренессанс кредит</td>\n",
       "      <td>1267</td>\n",
       "    </tr>\n",
       "    <tr>\n",
       "      <th>7943</th>\n",
       "      <td>г москва</td>\n",
       "      <td>юникредит банк</td>\n",
       "      <td>1197</td>\n",
       "    </tr>\n",
       "    <tr>\n",
       "      <th>7855</th>\n",
       "      <td>г москва</td>\n",
       "      <td>ситибанк</td>\n",
       "      <td>1144</td>\n",
       "    </tr>\n",
       "    <tr>\n",
       "      <th>7791</th>\n",
       "      <td>г москва</td>\n",
       "      <td>промсвязьбанк</td>\n",
       "      <td>1103</td>\n",
       "    </tr>\n",
       "    <tr>\n",
       "      <th>7534</th>\n",
       "      <td>г москва</td>\n",
       "      <td>авангард</td>\n",
       "      <td>1092</td>\n",
       "    </tr>\n",
       "    <tr>\n",
       "      <th>12695</th>\n",
       "      <td>г санкт-петербург</td>\n",
       "      <td>втб</td>\n",
       "      <td>984</td>\n",
       "    </tr>\n",
       "    <tr>\n",
       "      <th>12656</th>\n",
       "      <td>г санкт-петербург</td>\n",
       "      <td>альфа-банк</td>\n",
       "      <td>911</td>\n",
       "    </tr>\n",
       "    <tr>\n",
       "      <th>12864</th>\n",
       "      <td>г санкт-петербург</td>\n",
       "      <td>хоум кредит банк</td>\n",
       "      <td>753</td>\n",
       "    </tr>\n",
       "    <tr>\n",
       "      <th>7769</th>\n",
       "      <td>г москва</td>\n",
       "      <td>отп банк</td>\n",
       "      <td>737</td>\n",
       "    </tr>\n",
       "    <tr>\n",
       "      <th>12807</th>\n",
       "      <td>г санкт-петербург</td>\n",
       "      <td>русский стандарт</td>\n",
       "      <td>716</td>\n",
       "    </tr>\n",
       "    <tr>\n",
       "      <th>7675</th>\n",
       "      <td>г москва</td>\n",
       "      <td>киви банк</td>\n",
       "      <td>710</td>\n",
       "    </tr>\n",
       "    <tr>\n",
       "      <th>7922</th>\n",
       "      <td>г москва</td>\n",
       "      <td>ханты-мансийский банк открытие</td>\n",
       "      <td>641</td>\n",
       "    </tr>\n",
       "    <tr>\n",
       "      <th>7735</th>\n",
       "      <td>г москва</td>\n",
       "      <td>московский областной банк</td>\n",
       "      <td>638</td>\n",
       "    </tr>\n",
       "    <tr>\n",
       "      <th>7685</th>\n",
       "      <td>г москва</td>\n",
       "      <td>кредит европа банк</td>\n",
       "      <td>622</td>\n",
       "    </tr>\n",
       "    <tr>\n",
       "      <th>7739</th>\n",
       "      <td>г москва</td>\n",
       "      <td>мтс банк</td>\n",
       "      <td>609</td>\n",
       "    </tr>\n",
       "    <tr>\n",
       "      <th>12843</th>\n",
       "      <td>г санкт-петербург</td>\n",
       "      <td>тинькофф банк</td>\n",
       "      <td>608</td>\n",
       "    </tr>\n",
       "    <tr>\n",
       "      <th>7810</th>\n",
       "      <td>г москва</td>\n",
       "      <td>росбанк</td>\n",
       "      <td>590</td>\n",
       "    </tr>\n",
       "    <tr>\n",
       "      <th>7593</th>\n",
       "      <td>г москва</td>\n",
       "      <td>бинбанк</td>\n",
       "      <td>576</td>\n",
       "    </tr>\n",
       "    <tr>\n",
       "      <th>12862</th>\n",
       "      <td>г санкт-петербург</td>\n",
       "      <td>ханты-мансийский банк открытие</td>\n",
       "      <td>455</td>\n",
       "    </tr>\n",
       "    <tr>\n",
       "      <th>12790</th>\n",
       "      <td>г санкт-петербург</td>\n",
       "      <td>ренессанс кредит</td>\n",
       "      <td>452</td>\n",
       "    </tr>\n",
       "    <tr>\n",
       "      <th>12757</th>\n",
       "      <td>г санкт-петербург</td>\n",
       "      <td>национальный банк траст</td>\n",
       "      <td>441</td>\n",
       "    </tr>\n",
       "    <tr>\n",
       "      <th>7545</th>\n",
       "      <td>г москва</td>\n",
       "      <td>айманибанк</td>\n",
       "      <td>432</td>\n",
       "    </tr>\n",
       "    <tr>\n",
       "      <th>7846</th>\n",
       "      <td>г москва</td>\n",
       "      <td>сб банк судостроительный банк</td>\n",
       "      <td>423</td>\n",
       "    </tr>\n",
       "    <tr>\n",
       "      <th>9663</th>\n",
       "      <td>г новосибирск</td>\n",
       "      <td>сбербанк россии</td>\n",
       "      <td>422</td>\n",
       "    </tr>\n",
       "    <tr>\n",
       "      <th>12815</th>\n",
       "      <td>г санкт-петербург</td>\n",
       "      <td>связной банк</td>\n",
       "      <td>420</td>\n",
       "    </tr>\n",
       "    <tr>\n",
       "      <th>7613</th>\n",
       "      <td>г москва</td>\n",
       "      <td>восточный экспресс банк</td>\n",
       "      <td>411</td>\n",
       "    </tr>\n",
       "    <tr>\n",
       "      <th>9156</th>\n",
       "      <td>г нижний новгород</td>\n",
       "      <td>сбербанк россии</td>\n",
       "      <td>403</td>\n",
       "    </tr>\n",
       "    <tr>\n",
       "      <th>7594</th>\n",
       "      <td>г москва</td>\n",
       "      <td>бинбанк кредитные карты</td>\n",
       "      <td>395</td>\n",
       "    </tr>\n",
       "    <tr>\n",
       "      <th>12648</th>\n",
       "      <td>г санкт-петербург</td>\n",
       "      <td>авангард</td>\n",
       "      <td>377</td>\n",
       "    </tr>\n",
       "    <tr>\n",
       "      <th>12872</th>\n",
       "      <td>г санкт-петербург</td>\n",
       "      <td>юникредит банк</td>\n",
       "      <td>369</td>\n",
       "    </tr>\n",
       "    <tr>\n",
       "      <th>7881</th>\n",
       "      <td>г москва</td>\n",
       "      <td>т банк</td>\n",
       "      <td>364</td>\n",
       "    </tr>\n",
       "    <tr>\n",
       "      <th>12789</th>\n",
       "      <td>г санкт-петербург</td>\n",
       "      <td>райффайзенбанк</td>\n",
       "      <td>355</td>\n",
       "    </tr>\n",
       "    <tr>\n",
       "      <th>12821</th>\n",
       "      <td>г санкт-петербург</td>\n",
       "      <td>ситибанк</td>\n",
       "      <td>350</td>\n",
       "    </tr>\n",
       "    <tr>\n",
       "      <th>7868</th>\n",
       "      <td>г москва</td>\n",
       "      <td>совкомбанк</td>\n",
       "      <td>344</td>\n",
       "    </tr>\n",
       "    <tr>\n",
       "      <th>11886</th>\n",
       "      <td>г ростов-на-дону</td>\n",
       "      <td>сбербанк россии</td>\n",
       "      <td>344</td>\n",
       "    </tr>\n",
       "    <tr>\n",
       "      <th>7852</th>\n",
       "      <td>г москва</td>\n",
       "      <td>сетелем банк</td>\n",
       "      <td>343</td>\n",
       "    </tr>\n",
       "    <tr>\n",
       "      <th>7907</th>\n",
       "      <td>г москва</td>\n",
       "      <td>уралсиб</td>\n",
       "      <td>343</td>\n",
       "    </tr>\n",
       "    <tr>\n",
       "      <th>7941</th>\n",
       "      <td>г москва</td>\n",
       "      <td>юниаструм банк</td>\n",
       "      <td>338</td>\n",
       "    </tr>\n",
       "  </tbody>\n",
       "</table>\n",
       "</div>"
      ],
      "text/plain": [
       "                    city                       bank_name  text\n",
       "7847            г москва                 сбербанк россии  8328\n",
       "7554            г москва                      альфа-банк  3976\n",
       "7835            г москва                русский стандарт  2905\n",
       "7616            г москва                            втб   2756\n",
       "12813  г санкт-петербург                 сбербанк россии  2554\n",
       "7733            г москва       московский кредитный банк  2404\n",
       "7888            г москва                   тинькофф банк  2392\n",
       "7925            г москва                хоум кредит банк  2193\n",
       "7747            г москва         национальный банк траст  1695\n",
       "7797            г москва                  райффайзенбанк  1462\n",
       "7849            г москва                    связной банк  1460\n",
       "7575            г москва                     банк москвы  1320\n",
       "7805            г москва                ренессанс кредит  1267\n",
       "7943            г москва                  юникредит банк  1197\n",
       "7855            г москва                        ситибанк  1144\n",
       "7791            г москва                   промсвязьбанк  1103\n",
       "7534            г москва                        авангард  1092\n",
       "12695  г санкт-петербург                            втб    984\n",
       "12656  г санкт-петербург                      альфа-банк   911\n",
       "12864  г санкт-петербург                хоум кредит банк   753\n",
       "7769            г москва                        отп банк   737\n",
       "12807  г санкт-петербург                русский стандарт   716\n",
       "7675            г москва                       киви банк   710\n",
       "7922            г москва  ханты-мансийский банк открытие   641\n",
       "7735            г москва       московский областной банк   638\n",
       "7685            г москва              кредит европа банк   622\n",
       "7739            г москва                        мтс банк   609\n",
       "12843  г санкт-петербург                   тинькофф банк   608\n",
       "7810            г москва                         росбанк   590\n",
       "7593            г москва                         бинбанк   576\n",
       "12862  г санкт-петербург  ханты-мансийский банк открытие   455\n",
       "12790  г санкт-петербург                ренессанс кредит   452\n",
       "12757  г санкт-петербург         национальный банк траст   441\n",
       "7545            г москва                      айманибанк   432\n",
       "7846            г москва   сб банк судостроительный банк   423\n",
       "9663       г новосибирск                 сбербанк россии   422\n",
       "12815  г санкт-петербург                    связной банк   420\n",
       "7613            г москва         восточный экспресс банк   411\n",
       "9156   г нижний новгород                 сбербанк россии   403\n",
       "7594            г москва         бинбанк кредитные карты   395\n",
       "12648  г санкт-петербург                        авангард   377\n",
       "12872  г санкт-петербург                  юникредит банк   369\n",
       "7881            г москва                          т банк   364\n",
       "12789  г санкт-петербург                  райффайзенбанк   355\n",
       "12821  г санкт-петербург                        ситибанк   350\n",
       "7868            г москва                      совкомбанк   344\n",
       "11886   г ростов-на-дону                 сбербанк россии   344\n",
       "7852            г москва                    сетелем банк   343\n",
       "7907            г москва                         уралсиб   343\n",
       "7941            г москва                  юниаструм банк   338"
      ]
     },
     "execution_count": 120,
     "metadata": {},
     "output_type": "execute_result"
    }
   ],
   "source": [
    "amount_of_review.head(50)"
   ]
  },
  {
   "cell_type": "code",
   "execution_count": 121,
   "metadata": {},
   "outputs": [
    {
     "name": "stdout",
     "output_type": "stream",
     "text": [
      "\n"
     ]
    },
    {
     "data": {
      "image/png": "[encoded data removed]",
      "text/plain": [
       "<Figure size 720x504 with 1 Axes>"
      ]
     },
     "metadata": {
      "needs_background": "light"
     },
     "output_type": "display_data"
    }
   ],
   "source": [
    "plt.figure(figsize=(10,7))\n",
    "plt.hist(amount_of_review.head(50)['text'], bins=50)\n",
    "plt.title('Распределение кол-ва отзывов в разных городах на разные банки. Первые 50 с самым высоким кол-вом отзывов')\n",
    "print()"
   ]
  },
  {
   "cell_type": "markdown",
   "metadata": {},
   "source": [
    "#### 2. Гистограмы длин слов в символах и в словах"
   ]
  },
  {
   "cell_type": "code",
   "execution_count": 249,
   "metadata": {},
   "outputs": [],
   "source": [
    "def count_amount(col, dict_words, dict_signs):\n",
    "    col = col.lower()\n",
    "    col = re.sub(r'[^а-яa-z -]', '', col)\n",
    "    \n",
    "    # Добавляем значение в dict_words    \n",
    "    count_of_words = col.split(' ')\n",
    "    dict_words.append(len(count_of_words))\n",
    "    \n",
    "    # Добавляем значение в dict_signs\n",
    "    for i in count_of_words:\n",
    "        count_of_signs = len(i)\n",
    "        # У нас есть пара выбросов со словами длинной за 700 символов, отфильтруем по длине\n",
    "        if count_of_signs <= 50:\n",
    "            dict_signs.append(count_of_signs)\n",
    "            "
   ]
  },
  {
   "cell_type": "code",
   "execution_count": 250,
   "metadata": {
    "scrolled": true
   },
   "outputs": [
    {
     "name": "stdout",
     "output_type": "stream",
     "text": [
      "\n"
     ]
    }
   ],
   "source": [
    "dict_words = []\n",
    "dict_signs = []\n",
    "\n",
    "df['text'].apply(count_amount, dict_words=dict_words, dict_signs=dict_signs)\n",
    "print()"
   ]
  },
  {
   "cell_type": "code",
   "execution_count": 247,
   "metadata": {},
   "outputs": [
    {
     "name": "stdout",
     "output_type": "stream",
     "text": [
      "\n"
     ]
    },
    {
     "data": {
      "image/png": "[encoded data removed]",
      "text/plain": [
       "<Figure size 720x504 with 1 Axes>"
      ]
     },
     "metadata": {
      "needs_background": "light"
     },
     "output_type": "display_data"
    }
   ],
   "source": [
    "plt.figure(figsize=(10,7))\n",
    "plt.hist(dict_words, bins=100)\n",
    "plt.xlabel('Количество слов в отзыве', fontsize=12)\n",
    "plt.ylabel('Количество отзывов с определенным количеством слов', fontsize=12)\n",
    "plt.title('Распределение количества слов в отзывах', fontsize=16)\n",
    "\n",
    "print()"
   ]
  },
  {
   "cell_type": "code",
   "execution_count": 252,
   "metadata": {
    "scrolled": false
   },
   "outputs": [
    {
     "name": "stdout",
     "output_type": "stream",
     "text": [
      "\n"
     ]
    },
    {
     "data": {
      "image/png": "[encoded data removed]",
      "text/plain": [
       "<Figure size 720x504 with 1 Axes>"
      ]
     },
     "metadata": {
      "needs_background": "light"
     },
     "output_type": "display_data"
    }
   ],
   "source": [
    "plt.figure(figsize=(10,7))\n",
    "plt.hist(dict_signs, bins=100)\n",
    "plt.xlabel('Количество символов в слове', fontsize=12)\n",
    "plt.ylabel('Количество слов с определенным количеством сисмволов', fontsize=12)\n",
    "plt.title('Распределение количества символов в словах', fontsize=16)\n",
    "\n",
    "print()"
   ]
  },
  {
   "cell_type": "markdown",
   "metadata": {},
   "source": [
    "#### 3. Найти самые частые:"
   ]
  },
  {
   "cell_type": "code",
   "execution_count": 253,
   "metadata": {},
   "outputs": [],
   "source": [
    "from pymorphy2 import MorphAnalyzer\n",
    "from nltk.corpus import stopwords\n",
    "from nltk.tokenize import word_tokenize"
   ]
  },
  {
   "cell_type": "code",
   "execution_count": 254,
   "metadata": {
    "scrolled": true
   },
   "outputs": [
    {
     "name": "stderr",
     "output_type": "stream",
     "text": [
      "[nltk_data] Downloading package punkt to\n",
      "[nltk_data]     C:\\Users\\79028\\AppData\\Roaming\\nltk_data...\n",
      "[nltk_data]   Package punkt is already up-to-date!\n",
      "[nltk_data] Downloading package stopwords to\n",
      "[nltk_data]     C:\\Users\\79028\\AppData\\Roaming\\nltk_data...\n",
      "[nltk_data]   Package stopwords is already up-to-date!\n"
     ]
    }
   ],
   "source": [
    "nltk.download('punkt')\n",
    "nltk.download('stopwords')\n",
    "stop_words = stopwords.words('russian')"
   ]
  },
  {
   "cell_type": "code",
   "execution_count": 264,
   "metadata": {},
   "outputs": [],
   "source": [
    "pymorphy = MorphAnalyzer()"
   ]
  },
  {
   "cell_type": "code",
   "execution_count": 293,
   "metadata": {},
   "outputs": [],
   "source": [
    "# Приведение к лемме библиотекой Pymorphy\n",
    "def lemma_pymorphy(tokens, tagging):\n",
    "    arr = []\n",
    "    for i in tokens:\n",
    "        lemma = pymorphy.parse(i)[0].normal_form\n",
    "        if tagging == True:\n",
    "            tag = str(pymorphy.parse(i)[0].tag.POS)\n",
    "            arr.append(lemma+'_'+tag)\n",
    "        else:\n",
    "            arr.append(lemma)\n",
    "    return arr"
   ]
  },
  {
   "cell_type": "code",
   "execution_count": 294,
   "metadata": {},
   "outputs": [],
   "source": [
    "# Функция обработки текста\n",
    "def text_processing(text, stopwords=False, lemma=False, tagging=False):\n",
    "    text = text.lower()\n",
    "    text = text.replace(\"ё\", \"е\")\n",
    "    text = re.sub(r'[^а-я a-z0-9 -]', '', text)\n",
    "    \n",
    "    tokens = word_tokenize(text)\n",
    "    \n",
    "    if stopwords == True:\n",
    "        tokens = [i for i in tokens if (i not in stop_words)]\n",
    "        \n",
    "    if lemma == True:\n",
    "        tokens = lemma_pymorphy(tokens, tagging)\n",
    "        \n",
    "    return tokens"
   ]
  },
  {
   "cell_type": "code",
   "execution_count": 361,
   "metadata": {},
   "outputs": [],
   "source": [
    "df_words = df['text'].apply(text_processing)"
   ]
  },
  {
   "cell_type": "code",
   "execution_count": 367,
   "metadata": {},
   "outputs": [],
   "source": [
    "corpus = []\n",
    "def make_corpus(col, corpus):\n",
    "    corpus.extend(col)"
   ]
  },
  {
   "cell_type": "code",
   "execution_count": 363,
   "metadata": {},
   "outputs": [
    {
     "name": "stdout",
     "output_type": "stream",
     "text": [
      "\n"
     ]
    }
   ],
   "source": [
    "df_words.apply(make_corpus, corpus=corpus)\n",
    "print()"
   ]
  },
  {
   "cell_type": "code",
   "execution_count": 311,
   "metadata": {},
   "outputs": [],
   "source": [
    "from collections import Counter"
   ]
  },
  {
   "cell_type": "code",
   "execution_count": 364,
   "metadata": {},
   "outputs": [],
   "source": [
    "freq_dict = Counter(corpus)"
   ]
  },
  {
   "cell_type": "markdown",
   "metadata": {},
   "source": [
    "#### 10 самых частых слов"
   ]
  },
  {
   "cell_type": "code",
   "execution_count": 366,
   "metadata": {
    "scrolled": true
   },
   "outputs": [
    {
     "data": {
      "text/plain": [
       "[('в', 1322045),\n",
       " ('и', 1054053),\n",
       " ('не', 851361),\n",
       " ('на', 704004),\n",
       " ('что', 620704),\n",
       " ('я', 575008),\n",
       " ('с', 454713),\n",
       " ('по', 364933),\n",
       " ('мне', 320510),\n",
       " ('-', 295825)]"
      ]
     },
     "execution_count": 366,
     "metadata": {},
     "output_type": "execute_result"
    }
   ],
   "source": [
    "freq_dict.most_common(10)"
   ]
  },
  {
   "cell_type": "markdown",
   "metadata": {},
   "source": [
    "#### 10 самых частых слов без стопслов"
   ]
  },
  {
   "cell_type": "code",
   "execution_count": 368,
   "metadata": {},
   "outputs": [],
   "source": [
    "df_not_stop = df['text'].apply(text_processing, stopwords=True)"
   ]
  },
  {
   "cell_type": "code",
   "execution_count": 369,
   "metadata": {},
   "outputs": [
    {
     "name": "stdout",
     "output_type": "stream",
     "text": [
      "\n"
     ]
    }
   ],
   "source": [
    "corpus_not_stop = []\n",
    "df_not_stop.apply(make_corpus, corpus=corpus_not_stop)\n",
    "print()"
   ]
  },
  {
   "cell_type": "code",
   "execution_count": 370,
   "metadata": {},
   "outputs": [],
   "source": [
    "freq_dict_not_stop = Counter(corpus_not_stop)"
   ]
  },
  {
   "cell_type": "code",
   "execution_count": 371,
   "metadata": {
    "scrolled": true
   },
   "outputs": [
    {
     "data": {
      "text/plain": [
       "[('-', 295825),\n",
       " ('банка', 263711),\n",
       " ('банк', 196085),\n",
       " ('это', 182938),\n",
       " ('деньги', 130004),\n",
       " ('карту', 104904),\n",
       " ('карты', 100828),\n",
       " ('кредит', 80195),\n",
       " ('день', 75928),\n",
       " ('заявление', 69469)]"
      ]
     },
     "execution_count": 371,
     "metadata": {},
     "output_type": "execute_result"
    }
   ],
   "source": [
    "freq_dict_not_stop.most_common(10)"
   ]
  },
  {
   "cell_type": "markdown",
   "metadata": {},
   "source": [
    "#### 10 самых частотных лемм"
   ]
  },
  {
   "cell_type": "code",
   "execution_count": 372,
   "metadata": {},
   "outputs": [],
   "source": [
    "df_lemma_tag = df['text'].apply(text_processing, stopwords=True, lemma=True, tagging=True)"
   ]
  },
  {
   "cell_type": "code",
   "execution_count": 373,
   "metadata": {},
   "outputs": [
    {
     "name": "stdout",
     "output_type": "stream",
     "text": [
      "\n"
     ]
    }
   ],
   "source": [
    "corpus_lemma = []\n",
    "df_lemma_tag.apply(make_corpus, corpus=corpus_lemma)\n",
    "print()"
   ]
  },
  {
   "cell_type": "code",
   "execution_count": 374,
   "metadata": {},
   "outputs": [],
   "source": [
    "freq_dict_lemma = Counter(corpus_lemma)\n"
   ]
  },
  {
   "cell_type": "code",
   "execution_count": 496,
   "metadata": {
    "scrolled": true
   },
   "outputs": [
    {
     "data": {
      "text/plain": [
       "[('банк_NOUN', 623735),\n",
       " ('карта_NOUN', 331634),\n",
       " ('-_None', 295825),\n",
       " ('это_PRCL', 182938),\n",
       " ('деньга_NOUN', 178274),\n",
       " ('день_NOUN', 172547),\n",
       " ('мой_ADJF', 166952),\n",
       " ('кредит_NOUN', 154720),\n",
       " ('который_ADJF', 148774),\n",
       " ('отделение_NOUN', 143547)]"
      ]
     },
     "execution_count": 496,
     "metadata": {},
     "output_type": "execute_result"
    }
   ],
   "source": [
    "freq_dict_lemma.most_common(10)"
   ]
  },
  {
   "cell_type": "markdown",
   "metadata": {},
   "source": [
    "#### Сохраним данные на всякий случай"
   ]
  },
  {
   "cell_type": "code",
   "execution_count": 378,
   "metadata": {},
   "outputs": [],
   "source": [
    "df_for_csv = df_lemma_tag.apply(lambda x: \" \".join(x))"
   ]
  },
  {
   "cell_type": "code",
   "execution_count": 380,
   "metadata": {},
   "outputs": [],
   "source": [
    "df_for_csv.to_csv('DataFrame_lemma_tag.csv')"
   ]
  },
  {
   "cell_type": "markdown",
   "metadata": {},
   "source": [
    "#### 10 самых частотных существительных"
   ]
  },
  {
   "cell_type": "code",
   "execution_count": 469,
   "metadata": {},
   "outputs": [],
   "source": [
    "def get_most_common_part_of_speech(dict_, amount=10, part='NOUN'):\n",
    "    most_common = []\n",
    "    i = 1\n",
    "    while len(most_common) < amount:\n",
    "        word = dict_.most_common(i)[-1][0]\n",
    "        if re.search(r'_{}'.format(re.escape(part)), word):\n",
    "            most_common.append(dict_.most_common(i)[-1])\n",
    "        i+=1\n",
    "    return most_common"
   ]
  },
  {
   "cell_type": "code",
   "execution_count": 470,
   "metadata": {},
   "outputs": [
    {
     "data": {
      "text/plain": [
       "[('банк_NOUN', 623735),\n",
       " ('карта_NOUN', 331634),\n",
       " ('деньга_NOUN', 178274),\n",
       " ('день_NOUN', 172547),\n",
       " ('кредит_NOUN', 154720),\n",
       " ('отделение_NOUN', 143547),\n",
       " ('счёт_NOUN', 140477),\n",
       " ('сотрудник_NOUN', 133507),\n",
       " ('клиент_NOUN', 132848),\n",
       " ('сумма_NOUN', 110788)]"
      ]
     },
     "execution_count": 470,
     "metadata": {},
     "output_type": "execute_result"
    }
   ],
   "source": [
    "get_most_common_part_of_speech(freq_dict_lemma)"
   ]
  },
  {
   "cell_type": "markdown",
   "metadata": {},
   "source": [
    "#### 4. Кривые Ципфа и Хипса"
   ]
  },
  {
   "cell_type": "markdown",
   "metadata": {},
   "source": [
    "#### Кривая Ципфа"
   ]
  },
  {
   "cell_type": "code",
   "execution_count": 439,
   "metadata": {
    "scrolled": true
   },
   "outputs": [
    {
     "data": {
      "image/png": "[encoded data removed]",
      "text/plain": [
       "<Figure size 432x288 with 1 Axes>"
      ]
     },
     "metadata": {
      "needs_background": "light"
     },
     "output_type": "display_data"
    }
   ],
   "source": [
    "freqs = list(freq_dict_lemma.values())\n",
    "freqs = sorted(freqs, reverse = True)\n",
    "\n",
    "fig, ax = plt.subplots()\n",
    "ax.plot(freqs[:300], range(300))\n",
    "plt.show()"
   ]
  },
  {
   "cell_type": "markdown",
   "metadata": {},
   "source": [
    "#### Кривая Хипса"
   ]
  },
  {
   "cell_type": "code",
   "execution_count": 466,
   "metadata": {
    "scrolled": true
   },
   "outputs": [
    {
     "name": "stderr",
     "output_type": "stream",
     "text": [
      "100%|███████████████████████████████████████████████████████████████████████| 153499/153499 [00:05<00:00, 28916.52it/s]\n"
     ]
    }
   ],
   "source": [
    "arr = [0]\n",
    "count = Counter()\n",
    "for text in tqdm(df_lemma_tag):\n",
    "    count.update(text)\n",
    "    arr.append(len(count))"
   ]
  },
  {
   "cell_type": "code",
   "execution_count": 468,
   "metadata": {
    "scrolled": true
   },
   "outputs": [
    {
     "data": {
      "text/plain": [
       "[<matplotlib.lines.Line2D at 0x25f54672dc0>]"
      ]
     },
     "execution_count": 468,
     "metadata": {},
     "output_type": "execute_result"
    },
    {
     "data": {
      "image/png": "[encoded data removed]",
      "text/plain": [
       "<Figure size 432x288 with 1 Axes>"
      ]
     },
     "metadata": {
      "needs_background": "light"
     },
     "output_type": "display_data"
    }
   ],
   "source": [
    "plt.plot(arr)"
   ]
  },
  {
   "cell_type": "markdown",
   "metadata": {},
   "source": [
    "#### 5."
   ]
  },
  {
   "cell_type": "markdown",
   "metadata": {},
   "source": [
    "#### Какое слово встречается чаще, \"сотрудник\" или \"клиент\"\n",
    "Как мы увидели выше, два этих слова попали в первую десятку по частотности существительных.\n",
    "Сотрудник встречается 133507 раз, а Клиент чуть меньше - 132848 раз"
   ]
  },
  {
   "cell_type": "markdown",
   "metadata": {},
   "source": [
    "#### Сколько раз встречается слова \"мошенничество\" и \"доверие\""
   ]
  },
  {
   "cell_type": "code",
   "execution_count": 489,
   "metadata": {},
   "outputs": [
    {
     "data": {
      "text/plain": [
       "2101"
      ]
     },
     "execution_count": 489,
     "metadata": {},
     "output_type": "execute_result"
    }
   ],
   "source": [
    "freq_dict_lemma['доверие_NOUN']"
   ]
  },
  {
   "cell_type": "code",
   "execution_count": 490,
   "metadata": {},
   "outputs": [
    {
     "data": {
      "text/plain": [
       "3219"
      ]
     },
     "execution_count": 490,
     "metadata": {},
     "output_type": "execute_result"
    }
   ],
   "source": [
    "freq_dict_lemma['мошенничество_NOUN']"
   ]
  },
  {
   "cell_type": "markdown",
   "metadata": {},
   "source": [
    "#### 6. Мера TFIDF , для поиска ключевых слов и биграмм для положительных отзывов (с оценкой 5) и отрицательных отзывов (с оценкой 1)"
   ]
  },
  {
   "cell_type": "code",
   "execution_count": 500,
   "metadata": {
    "scrolled": true
   },
   "outputs": [
    {
     "name": "stdout",
     "output_type": "stream",
     "text": [
      "<class 'pandas.core.frame.DataFrame'>\n",
      "RangeIndex: 153499 entries, 0 to 153498\n",
      "Data columns (total 10 columns):\n",
      " #   Column              Non-Null Count   Dtype  \n",
      "---  ------              --------------   -----  \n",
      " 0   city                138325 non-null  object \n",
      " 1   rating_not_checked  153499 non-null  bool   \n",
      " 2   title               153499 non-null  object \n",
      " 3   num_comments        153499 non-null  int64  \n",
      " 4   bank_license        153498 non-null  object \n",
      " 5   author              153479 non-null  object \n",
      " 6   bank_name           153499 non-null  object \n",
      " 7   datetime            153499 non-null  object \n",
      " 8   text                153499 non-null  object \n",
      " 9   rating_grade        88658 non-null   float64\n",
      "dtypes: bool(1), float64(1), int64(1), object(7)\n",
      "memory usage: 10.7+ MB\n"
     ]
    }
   ],
   "source": [
    "df.info()"
   ]
  },
  {
   "cell_type": "markdown",
   "metadata": {},
   "source": [
    "#### Соединим основной DF с лемматизированным текстом"
   ]
  },
  {
   "cell_type": "code",
   "execution_count": 7,
   "metadata": {},
   "outputs": [],
   "source": [
    "df_lemma_tag = pd.read_csv('DataFrame_lemma_tag.csv')"
   ]
  },
  {
   "cell_type": "code",
   "execution_count": 9,
   "metadata": {},
   "outputs": [
    {
     "data": {
      "text/html": [
       "<div>\n",
       "<style scoped>\n",
       "    .dataframe tbody tr th:only-of-type {\n",
       "        vertical-align: middle;\n",
       "    }\n",
       "\n",
       "    .dataframe tbody tr th {\n",
       "        vertical-align: top;\n",
       "    }\n",
       "\n",
       "    .dataframe thead th {\n",
       "        text-align: right;\n",
       "    }\n",
       "</style>\n",
       "<table border=\"1\" class=\"dataframe\">\n",
       "  <thead>\n",
       "    <tr style=\"text-align: right;\">\n",
       "      <th></th>\n",
       "      <th>Unnamed: 0</th>\n",
       "      <th>text</th>\n",
       "    </tr>\n",
       "  </thead>\n",
       "  <tbody>\n",
       "    <tr>\n",
       "      <th>0</th>\n",
       "      <td>0</td>\n",
       "      <td>добрый_ADJF день_NOUN являться_VERB клиент_NOU...</td>\n",
       "    </tr>\n",
       "    <tr>\n",
       "      <th>1</th>\n",
       "      <td>1</td>\n",
       "      <td>добрый_ADJF день_NOUN являться_VERB держатель_...</td>\n",
       "    </tr>\n",
       "  </tbody>\n",
       "</table>\n",
       "</div>"
      ],
      "text/plain": [
       "   Unnamed: 0                                               text\n",
       "0           0  добрый_ADJF день_NOUN являться_VERB клиент_NOU...\n",
       "1           1  добрый_ADJF день_NOUN являться_VERB держатель_..."
      ]
     },
     "execution_count": 9,
     "metadata": {},
     "output_type": "execute_result"
    }
   ],
   "source": [
    "df_lemma_tag.head(2)"
   ]
  },
  {
   "cell_type": "code",
   "execution_count": 15,
   "metadata": {},
   "outputs": [],
   "source": [
    "df['lemma_text'] = df_lemma_tag['text']"
   ]
  },
  {
   "cell_type": "code",
   "execution_count": 16,
   "metadata": {},
   "outputs": [],
   "source": [
    "data = df[['rating_grade', 'lemma_text']][(df['rating_grade'] == 1.0) | (df['rating_grade'] == 5.0)]"
   ]
  },
  {
   "cell_type": "code",
   "execution_count": 17,
   "metadata": {},
   "outputs": [
    {
     "data": {
      "text/plain": [
       "1.0    47387\n",
       "5.0    14713\n",
       "Name: rating_grade, dtype: int64"
      ]
     },
     "execution_count": 17,
     "metadata": {},
     "output_type": "execute_result"
    }
   ],
   "source": [
    "data['rating_grade'].value_counts()"
   ]
  },
  {
   "cell_type": "markdown",
   "metadata": {},
   "source": [
    "#### TFIDF"
   ]
  },
  {
   "cell_type": "code",
   "execution_count": 20,
   "metadata": {},
   "outputs": [],
   "source": [
    "from sklearn.feature_extraction.text import TfidfVectorizer"
   ]
  },
  {
   "cell_type": "code",
   "execution_count": 26,
   "metadata": {},
   "outputs": [],
   "source": [
    "def get_keywords(data, num_to_print=20):\n",
    "    vec = TfidfVectorizer()\n",
    "    tfidf = vec.fit_transform(data)\n",
    "    \n",
    "    df = pd.DataFrame(tfidf[0].T.todense(), index=vec.get_feature_names(), columns=[\"TF-IDF\"])\n",
    "    df = df.sort_values('TF-IDF', ascending=False)\n",
    "    \n",
    "    print (df.head(num_to_print))\n",
    "    \n",
    "    return df"
   ]
  },
  {
   "cell_type": "code",
   "execution_count": 29,
   "metadata": {},
   "outputs": [
    {
     "name": "stdout",
     "output_type": "stream",
     "text": [
      "                     TF-IDF\n",
      "доллар_noun        0.247499\n",
      "рубдоллар_noun     0.234063\n",
      "курс_noun          0.230321\n",
      "546_none           0.212542\n",
      "долларовый_adjf    0.196791\n",
      "операционист_noun  0.190143\n",
      "700_none           0.176824\n",
      "операция_noun      0.175647\n",
      "рубль_noun         0.165678\n",
      "риторический_adjf  0.154834\n"
     ]
    }
   ],
   "source": [
    "freq_negative = get_keywords(data_corp_negative, 10)"
   ]
  },
  {
   "cell_type": "code",
   "execution_count": 30,
   "metadata": {},
   "outputs": [
    {
     "name": "stdout",
     "output_type": "stream",
     "text": [
      "                     TF-IDF\n",
      "ленсовет_noun      0.330085\n",
      "прикрыть_verb      0.276442\n",
      "89_none            0.270365\n",
      "озерко_noun        0.270365\n",
      "вклад_noun         0.229087\n",
      "нести_verb         0.209731\n",
      "доступность_noun   0.198388\n",
      "значительный_adjf  0.192258\n",
      "заказать_infn      0.179920\n",
      "заказывать_verb    0.179011\n"
     ]
    }
   ],
   "source": [
    "freq_positive = get_keywords(data_corp_positive, 10)"
   ]
  },
  {
   "cell_type": "markdown",
   "metadata": {},
   "source": [
    "### Тематическое моделирование"
   ]
  },
  {
   "cell_type": "code",
   "execution_count": 573,
   "metadata": {},
   "outputs": [],
   "source": [
    "from gensim.corpora import Dictionary\n",
    "from gensim.models import TfidfModel\n",
    "from gensim import similarities"
   ]
  },
  {
   "cell_type": "code",
   "execution_count": 577,
   "metadata": {},
   "outputs": [],
   "source": [
    "texts = [text.split() for text in data['lemma_text']]\n",
    "dictionary = Dictionary(texts)\n",
    "corpus = [dictionary.doc2bow(text) for text in texts]"
   ]
  },
  {
   "cell_type": "code",
   "execution_count": 580,
   "metadata": {},
   "outputs": [],
   "source": [
    "tfidf = TfidfModel(corpus)\n",
    "corpus_tfidf = tfidf[corpus]"
   ]
  },
  {
   "cell_type": "markdown",
   "metadata": {},
   "source": [
    "#### 1. Несколько тематических моделей коллекции документов с разным числом тем. Сделал одинаковые модели с разным числом тем"
   ]
  },
  {
   "cell_type": "code",
   "execution_count": 579,
   "metadata": {},
   "outputs": [],
   "source": [
    "from gensim.models import lsimodel"
   ]
  },
  {
   "cell_type": "code",
   "execution_count": 581,
   "metadata": {},
   "outputs": [
    {
     "name": "stdout",
     "output_type": "stream",
     "text": [
      "Wall time: 2min 9s\n"
     ]
    }
   ],
   "source": [
    "%%time\n",
    "lsi = lsimodel.LsiModel(corpus=corpus_tfidf, id2word=dictionary, num_topics=30)"
   ]
  },
  {
   "cell_type": "code",
   "execution_count": 589,
   "metadata": {},
   "outputs": [
    {
     "data": {
      "text/plain": [
       "[(0,\n",
       "  '0.190*\"карта_NOUN\" + 0.130*\"кредит_NOUN\" + 0.118*\"-_None\" + 0.108*\"деньга_NOUN\" + 0.107*\"заявление_NOUN\" + 0.106*\"вклад_NOUN\" + 0.105*\"счёт_NOUN\" + 0.101*\"банкомат_NOUN\" + 0.098*\"отделение_NOUN\" + 0.088*\"сотрудник_NOUN\"'),\n",
       " (1,\n",
       "  '-0.586*\"вклад_NOUN\" + -0.155*\"очередь_NOUN\" + 0.147*\"заявление_NOUN\" + 0.116*\"платёж_NOUN\" + 0.116*\"задолженность_NOUN\" + 0.115*\"кредит_NOUN\" + 0.114*\"банкомат_NOUN\" + 0.104*\"карта_NOUN\" + 0.103*\"претензия_NOUN\" + -0.095*\"очень_ADVB\"'),\n",
       " (2,\n",
       "  '-0.385*\"кредит_NOUN\" + 0.375*\"банкомат_NOUN\" + 0.286*\"карта_NOUN\" + -0.207*\"страховка_NOUN\" + -0.165*\"договор_NOUN\" + -0.147*\"погашение_NOUN\" + 0.146*\"деньга_NOUN\" + 0.142*\"сбербанк_NOUN\" + -0.140*\"документ_NOUN\" + 0.120*\"операция_NOUN\"'),\n",
       " (3,\n",
       "  '0.431*\"вклад_NOUN\" + -0.259*\"карта_NOUN\" + -0.204*\"заявка_NOUN\" + 0.176*\"сумма_NOUN\" + 0.165*\"банкомат_NOUN\" + 0.147*\"договор_NOUN\" + 0.138*\"средство_NOUN\" + 0.133*\"погашение_NOUN\" + 0.131*\"деньга_NOUN\" + 0.127*\"платёж_NOUN\"'),\n",
       " (4,\n",
       "  '0.490*\"банкомат_NOUN\" + -0.368*\"карта_NOUN\" + -0.255*\"вклад_NOUN\" + 0.153*\"кредит_NOUN\" + 0.131*\"купюра_NOUN\" + 0.112*\"очередь_NOUN\" + 0.111*\"деньга_NOUN\" + -0.108*\"задолженность_NOUN\" + 0.105*\"работать_VERB\" + -0.103*\"закрытие_NOUN\"'),\n",
       " (5,\n",
       "  '0.274*\"карта_NOUN\" + -0.185*\"номер_NOUN\" + 0.183*\"комиссия_NOUN\" + -0.176*\"вклад_NOUN\" + -0.172*\"сбербанк_NOUN\" + 0.162*\"лимит_NOUN\" + -0.156*\"заявка_NOUN\" + 0.146*\"банкомат_NOUN\" + 0.136*\"кредитный_ADJF\" + 0.129*\"кредит_NOUN\"'),\n",
       " (6,\n",
       "  '0.269*\"заявка_NOUN\" + -0.247*\"платёж_NOUN\" + 0.244*\"страховка_NOUN\" + 0.198*\"банкомат_NOUN\" + 0.182*\"карта_NOUN\" + -0.162*\"задолженность_NOUN\" + 0.160*\"вклад_NOUN\" + 0.159*\"страхование_NOUN\" + -0.135*\"перевод_NOUN\" + 0.134*\"документ_NOUN\"'),\n",
       " (7,\n",
       "  '-0.201*\"перевод_NOUN\" + 0.196*\"вклад_NOUN\" + -0.191*\"сбербанк_NOUN\" + -0.169*\"средство_NOUN\" + -0.155*\"денежный_ADJF\" + -0.143*\"сделка_NOUN\" + 0.142*\"говорить_VERB\" + 0.136*\"карта_NOUN\" + 0.127*\"сказать_VERB\" + 0.126*\"звонить_VERB\"'),\n",
       " (8,\n",
       "  '0.333*\"сбербанк_NOUN\" + 0.308*\"страховка_NOUN\" + -0.261*\"банкомат_NOUN\" + 0.169*\"очередь_NOUN\" + 0.158*\"страхование_NOUN\" + 0.156*\"перевод_NOUN\" + -0.154*\"звонок_NOUN\" + -0.151*\"претензия_NOUN\" + -0.146*\"заявка_NOUN\" + -0.141*\"вклад_NOUN\"'),\n",
       " (9,\n",
       "  '-0.356*\"страховка_NOUN\" + -0.216*\"страхование_NOUN\" + -0.211*\"номер_NOUN\" + 0.210*\"справка_NOUN\" + 0.182*\"документ_NOUN\" + 0.173*\"сделка_NOUN\" + 0.173*\"счёт_NOUN\" + 0.168*\"перевод_NOUN\" + -0.145*\"услуга_NOUN\" + 0.142*\"квартира_NOUN\"')]"
      ]
     },
     "execution_count": 589,
     "metadata": {},
     "output_type": "execute_result"
    }
   ],
   "source": [
    "lsi.show_topics(10)"
   ]
  },
  {
   "cell_type": "code",
   "execution_count": null,
   "metadata": {},
   "outputs": [],
   "source": []
  },
  {
   "cell_type": "code",
   "execution_count": 585,
   "metadata": {},
   "outputs": [
    {
     "name": "stdout",
     "output_type": "stream",
     "text": [
      "Wall time: 56.8 s\n"
     ]
    }
   ],
   "source": [
    "%%time\n",
    "lsi_2 = lsimodel.LsiModel(corpus=corpus_tfidf, id2word=dictionary, num_topics=10)"
   ]
  },
  {
   "cell_type": "code",
   "execution_count": 586,
   "metadata": {},
   "outputs": [
    {
     "data": {
      "text/plain": [
       "[(0,\n",
       "  '0.190*\"карта_NOUN\" + 0.130*\"кредит_NOUN\" + 0.118*\"-_None\" + 0.108*\"деньга_NOUN\" + 0.107*\"заявление_NOUN\" + 0.106*\"вклад_NOUN\" + 0.105*\"счёт_NOUN\" + 0.100*\"банкомат_NOUN\" + 0.098*\"отделение_NOUN\" + 0.088*\"сотрудник_NOUN\"'),\n",
       " (1,\n",
       "  '-0.586*\"вклад_NOUN\" + -0.155*\"очередь_NOUN\" + 0.144*\"заявление_NOUN\" + 0.118*\"задолженность_NOUN\" + 0.118*\"кредит_NOUN\" + 0.116*\"платёж_NOUN\" + 0.113*\"банкомат_NOUN\" + 0.103*\"претензия_NOUN\" + 0.102*\"карта_NOUN\" + -0.095*\"открыть_INFN\"'),\n",
       " (2,\n",
       "  '-0.385*\"кредит_NOUN\" + 0.370*\"банкомат_NOUN\" + 0.290*\"карта_NOUN\" + -0.208*\"страховка_NOUN\" + -0.163*\"договор_NOUN\" + -0.147*\"погашение_NOUN\" + 0.144*\"деньга_NOUN\" + 0.140*\"сбербанк_NOUN\" + -0.139*\"документ_NOUN\" + -0.123*\"страхование_NOUN\"'),\n",
       " (3,\n",
       "  '0.415*\"вклад_NOUN\" + -0.261*\"карта_NOUN\" + -0.199*\"заявка_NOUN\" + 0.181*\"банкомат_NOUN\" + 0.177*\"сумма_NOUN\" + 0.144*\"договор_NOUN\" + 0.144*\"средство_NOUN\" + 0.132*\"погашение_NOUN\" + 0.131*\"деньга_NOUN\" + 0.126*\"процент_NOUN\"'),\n",
       " (4,\n",
       "  '0.418*\"банкомат_NOUN\" + -0.380*\"карта_NOUN\" + -0.251*\"вклад_NOUN\" + 0.140*\"очередь_NOUN\" + 0.137*\"терминал_NOUN\" + 0.135*\"кредит_NOUN\" + 0.126*\"купюра_NOUN\" + -0.123*\"кредитный_ADJF\" + 0.113*\"деньга_NOUN\" + 0.111*\"работать_VERB\"')]"
      ]
     },
     "execution_count": 586,
     "metadata": {},
     "output_type": "execute_result"
    }
   ],
   "source": [
    "lsi_2.show_topics(5)"
   ]
  },
  {
   "cell_type": "markdown",
   "metadata": {},
   "source": [
    "#### 2. Темы с упоминанием конкретных банков"
   ]
  },
  {
   "cell_type": "code",
   "execution_count": 590,
   "metadata": {},
   "outputs": [
    {
     "data": {
      "text/plain": [
       "(8,\n",
       " '0.333*\"сбербанк_NOUN\" + 0.308*\"страховка_NOUN\" + -0.261*\"банкомат_NOUN\" + 0.169*\"очередь_NOUN\" + 0.158*\"страхование_NOUN\" + 0.156*\"перевод_NOUN\" + -0.154*\"звонок_NOUN\" + -0.151*\"претензия_NOUN\" + -0.146*\"заявка_NOUN\" + -0.141*\"вклад_NOUN\"')"
      ]
     },
     "execution_count": 590,
     "metadata": {},
     "output_type": "execute_result"
    }
   ],
   "source": [
    "lsi.show_topics(10)[8]"
   ]
  },
  {
   "cell_type": "code",
   "execution_count": 592,
   "metadata": {},
   "outputs": [
    {
     "data": {
      "text/plain": [
       "(11,\n",
       " '-0.388*\"сбербанк_NOUN\" + -0.273*\"терминал_NOUN\" + -0.255*\"платёж_NOUN\" + 0.173*\"счёт_NOUN\" + 0.160*\"комиссия_NOUN\" + -0.154*\"вклад_NOUN\" + -0.154*\"заявка_NOUN\" + 0.149*\"справка_NOUN\" + -0.134*\"кредит_NOUN\" + 0.130*\"банкомат_NOUN\"')"
      ]
     },
     "execution_count": 592,
     "metadata": {},
     "output_type": "execute_result"
    }
   ],
   "source": [
    "lsi.show_topics(20)[11]"
   ]
  },
  {
   "cell_type": "code",
   "execution_count": 593,
   "metadata": {
    "scrolled": true
   },
   "outputs": [
    {
     "data": {
      "text/plain": [
       "(12,\n",
       " '0.323*\"заявка_NOUN\" + 0.219*\"очередь_NOUN\" + -0.200*\"сбербанк_NOUN\" + -0.199*\"мы_NPRO\" + -0.183*\"сделка_NOUN\" + -0.168*\"квартира_NOUN\" + 0.149*\"минута_NOUN\" + 0.139*\"касса_NOUN\" + -0.133*\"деньга_NOUN\" + -0.124*\"карточка_NOUN\"')"
      ]
     },
     "execution_count": 593,
     "metadata": {},
     "output_type": "execute_result"
    }
   ],
   "source": [
    "lsi.show_topics(20)[12]"
   ]
  },
  {
   "cell_type": "code",
   "execution_count": null,
   "metadata": {},
   "outputs": [],
   "source": []
  },
  {
   "cell_type": "markdown",
   "metadata": {
    "id": "AJ39G_RaqauR"
   },
   "source": [
    "## Классификация текстов"
   ]
  },
  {
   "cell_type": "markdown",
   "metadata": {},
   "source": [
    "#### 1. Разбиение на train и test"
   ]
  },
  {
   "cell_type": "code",
   "execution_count": 621,
   "metadata": {},
   "outputs": [],
   "source": [
    "from sklearn.linear_model import LogisticRegression\n",
    "from sklearn.metrics import f1_score, classification_report\n",
    "from sklearn.model_selection import  train_test_split"
   ]
  },
  {
   "cell_type": "code",
   "execution_count": 600,
   "metadata": {},
   "outputs": [],
   "source": [
    "x_train, x_test, y_train, y_test = train_test_split(data['lemma_text'], data['rating_grade'], test_size=0.3, random_state=42)"
   ]
  },
  {
   "cell_type": "markdown",
   "metadata": {},
   "source": [
    "#### 2. Стандартная модель на tf-idf"
   ]
  },
  {
   "cell_type": "markdown",
   "metadata": {},
   "source": [
    "#### Baseline"
   ]
  },
  {
   "cell_type": "code",
   "execution_count": 602,
   "metadata": {},
   "outputs": [],
   "source": [
    "vec = TfidfVectorizer()"
   ]
  },
  {
   "cell_type": "code",
   "execution_count": 604,
   "metadata": {},
   "outputs": [],
   "source": [
    "vec.fit(x_train)\n",
    "x_train_tfidf = vec.transform(x_train)\n",
    "x_test_tfidf = vec.transform(x_test)"
   ]
  },
  {
   "cell_type": "code",
   "execution_count": 605,
   "metadata": {},
   "outputs": [
    {
     "data": {
      "text/plain": [
       "LogisticRegression()"
      ]
     },
     "execution_count": 605,
     "metadata": {},
     "output_type": "execute_result"
    }
   ],
   "source": [
    "model = LogisticRegression()\n",
    "model.fit(x_train_tfidf, y_train)"
   ]
  },
  {
   "cell_type": "code",
   "execution_count": 612,
   "metadata": {},
   "outputs": [],
   "source": [
    "y_pred = model.predict(x_test_tfidf)"
   ]
  },
  {
   "cell_type": "code",
   "execution_count": 615,
   "metadata": {},
   "outputs": [
    {
     "name": "stdout",
     "output_type": "stream",
     "text": [
      "              precision    recall  f1-score   support\n",
      "\n",
      "         1.0       0.99      0.96      0.98     14665\n",
      "         5.0       0.87      0.97      0.92      3965\n",
      "\n",
      "    accuracy                           0.96     18630\n",
      "   macro avg       0.93      0.97      0.95     18630\n",
      "weighted avg       0.97      0.96      0.96     18630\n",
      "\n"
     ]
    }
   ],
   "source": [
    "print(classification_report(y_pred, y_test))"
   ]
  },
  {
   "cell_type": "markdown",
   "metadata": {},
   "source": [
    "#### Baseline на уни и биграммах"
   ]
  },
  {
   "cell_type": "code",
   "execution_count": 617,
   "metadata": {},
   "outputs": [],
   "source": [
    "vec_2 = TfidfVectorizer(ngram_range=(1,2))\n",
    "\n",
    "vec_2.fit(x_train)\n",
    "x_train_tfidf_2 = vec_2.transform(x_train)\n",
    "x_test_tfidf_2 = vec_2.transform(x_test)"
   ]
  },
  {
   "cell_type": "code",
   "execution_count": 619,
   "metadata": {},
   "outputs": [],
   "source": [
    "model_2 = LogisticRegression()\n",
    "model_2.fit(x_train_tfidf_2, y_train)\n",
    "\n",
    "y_pred_2 = model_2.predict(x_test_tfidf_2)"
   ]
  },
  {
   "cell_type": "code",
   "execution_count": 620,
   "metadata": {},
   "outputs": [
    {
     "name": "stdout",
     "output_type": "stream",
     "text": [
      "              precision    recall  f1-score   support\n",
      "\n",
      "         1.0       0.99      0.95      0.97     14868\n",
      "         5.0       0.83      0.98      0.90      3762\n",
      "\n",
      "    accuracy                           0.96     18630\n",
      "   macro avg       0.91      0.96      0.94     18630\n",
      "weighted avg       0.96      0.96      0.96     18630\n",
      "\n"
     ]
    }
   ],
   "source": [
    "print(classification_report(y_pred_2, y_test))"
   ]
  },
  {
   "cell_type": "markdown",
   "metadata": {},
   "source": [
    "#### В таком варианте немногим хуже"
   ]
  },
  {
   "cell_type": "markdown",
   "metadata": {},
   "source": [
    "#### 3. Использование скрытых тем"
   ]
  },
  {
   "cell_type": "code",
   "execution_count": 622,
   "metadata": {},
   "outputs": [],
   "source": [
    "from sklearn.decomposition import TruncatedSVD"
   ]
  },
  {
   "cell_type": "code",
   "execution_count": 632,
   "metadata": {},
   "outputs": [
    {
     "name": "stderr",
     "output_type": "stream",
     "text": [
      "100%|██████████████████████████████████████████████████████████████████████████████████| 26/26 [11:08<00:00, 25.70s/it]\n"
     ]
    }
   ],
   "source": [
    "f1_scores = []\n",
    "n_components = []\n",
    "\n",
    "\n",
    "for i in tqdm(range(50, 310, 10)):\n",
    "    decomp = TruncatedSVD(n_components=i, random_state=0)\n",
    "    decomp.fit(x_train_tfidf)\n",
    "    \n",
    "    x_train_reduced = decomp.transform(x_train_tfidf)\n",
    "    x_test_reduced = decomp.transform(x_test_tfidf)\n",
    "    \n",
    "    model_with_svd = LogisticRegression()\n",
    "    model_with_svd.fit(x_train_reduced, y_train)\n",
    "    \n",
    "    y_pred_svd = model_with_svd.predict(x_test_reduced)\n",
    "    f1 = f1_score(y_pred_svd, y_test)\n",
    "    \n",
    "    f1_scores.append(f1)\n",
    "    n_components.append(i)"
   ]
  },
  {
   "cell_type": "code",
   "execution_count": 636,
   "metadata": {
    "scrolled": true
   },
   "outputs": [
    {
     "data": {
      "text/plain": [
       "[<matplotlib.lines.Line2D at 0x260406c1340>]"
      ]
     },
     "execution_count": 636,
     "metadata": {},
     "output_type": "execute_result"
    },
    {
     "data": {
      "image/png": "[encoded data removed]",
      "text/plain": [
       "<Figure size 432x288 with 1 Axes>"
      ]
     },
     "metadata": {
      "needs_background": "light"
     },
     "output_type": "display_data"
    }
   ],
   "source": [
    "plt.plot(n_components, f1_scores)"
   ]
  },
  {
   "cell_type": "code",
   "execution_count": null,
   "metadata": {},
   "outputs": [],
   "source": []
  },
  {
   "cell_type": "code",
   "execution_count": 638,
   "metadata": {},
   "outputs": [],
   "source": [
    "from sklearn.decomposition import LatentDirichletAllocation"
   ]
  },
  {
   "cell_type": "code",
   "execution_count": 646,
   "metadata": {},
   "outputs": [],
   "source": [
    "LDA = LatentDirichletAllocation(n_components=50)\n",
    "LDA.fit(x_train_tfidf)\n",
    "x_train_lda = LDA.transform(x_train_tfidf)\n",
    "x_test_lda = LDA.transform(x_test_tfidf)"
   ]
  },
  {
   "cell_type": "code",
   "execution_count": 647,
   "metadata": {
    "scrolled": true
   },
   "outputs": [
    {
     "name": "stdout",
     "output_type": "stream",
     "text": [
      "              precision    recall  f1-score   support\n",
      "\n",
      "         1.0       1.00      0.76      0.86     18630\n",
      "         5.0       0.00      0.00      0.00         0\n",
      "\n",
      "    accuracy                           0.76     18630\n",
      "   macro avg       0.50      0.38      0.43     18630\n",
      "weighted avg       1.00      0.76      0.86     18630\n",
      "\n"
     ]
    },
    {
     "name": "stderr",
     "output_type": "stream",
     "text": [
      "C:\\ProgramData\\Anaconda3\\lib\\site-packages\\sklearn\\metrics\\_classification.py:1248: UndefinedMetricWarning: Recall and F-score are ill-defined and being set to 0.0 in labels with no true samples. Use `zero_division` parameter to control this behavior.\n",
      "  _warn_prf(average, modifier, msg_start, len(result))\n",
      "C:\\ProgramData\\Anaconda3\\lib\\site-packages\\sklearn\\metrics\\_classification.py:1248: UndefinedMetricWarning: Recall and F-score are ill-defined and being set to 0.0 in labels with no true samples. Use `zero_division` parameter to control this behavior.\n",
      "  _warn_prf(average, modifier, msg_start, len(result))\n",
      "C:\\ProgramData\\Anaconda3\\lib\\site-packages\\sklearn\\metrics\\_classification.py:1248: UndefinedMetricWarning: Recall and F-score are ill-defined and being set to 0.0 in labels with no true samples. Use `zero_division` parameter to control this behavior.\n",
      "  _warn_prf(average, modifier, msg_start, len(result))\n"
     ]
    }
   ],
   "source": [
    "model_with_lda = LogisticRegression()\n",
    "model_with_lda.fit(x_train_lda, y_train)\n",
    "    \n",
    "y_pred_lda = model_with_lda.predict(x_test_lda)\n",
    "print(classification_report(y_pred_lda, y_test))"
   ]
  }
 ],
 "metadata": {
  "colab": {
   "collapsed_sections": [],
   "name": "HW1_banki_TM-and-classification.ipynb",
   "provenance": []
  },
  "kernelspec": {
   "display_name": "Python 3 (ipykernel)",
   "language": "python",
   "name": "python3"
  },
  "language_info": {
   "codemirror_mode": {
    "name": "ipython",
    "version": 3
   },
   "file_extension": ".py",
   "mimetype": "text/x-python",
   "name": "python",
   "nbconvert_exporter": "python",
   "pygments_lexer": "ipython3",
   "version": "3.9.7"
  }
 },
 "nbformat": 4,
 "nbformat_minor": 1
}
